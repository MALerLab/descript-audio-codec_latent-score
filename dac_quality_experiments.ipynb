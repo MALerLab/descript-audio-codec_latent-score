{
 "cells": [
  {
   "cell_type": "code",
   "execution_count": null,
   "metadata": {},
   "outputs": [],
   "source": [
    "import dac\n",
    "from pathlib import Path\n",
    "from audiotools import AudioSignal\n",
    "import IPython.display as ipd"
   ]
  },
  {
   "cell_type": "code",
   "execution_count": null,
   "metadata": {},
   "outputs": [],
   "source": [
    "root_dir = Path.home() / 'userdata'"
   ]
  },
  {
   "cell_type": "code",
   "execution_count": null,
   "metadata": {},
   "outputs": [],
   "source": [
    "save_dir = Path('dac_quality_experiments_outputs')\n",
    "save_dir.mkdir(parents=True, exist_ok=True)"
   ]
  },
  {
   "cell_type": "code",
   "execution_count": null,
   "metadata": {},
   "outputs": [],
   "source": [
    "# Trained on String Quartet Dataset\n",
    "model_dir = root_dir / \"sake/descript-audio-codec_latent-score/string_quartet_trained_best/dac/weights.pth\"\n",
    "model = dac.DAC.load(model_dir)\n",
    "model = model.to('cuda')"
   ]
  },
  {
   "cell_type": "code",
   "execution_count": null,
   "metadata": {},
   "outputs": [],
   "source": [
    "# Pretrained\n",
    "p_model_dir = dac.utils.download(model_type=\"44khz\")\n",
    "p_model = dac.DAC.load(p_model_dir)\n",
    "p_model = p_model.to('cuda')"
   ]
  },
  {
   "cell_type": "code",
   "execution_count": null,
   "metadata": {},
   "outputs": [],
   "source": [
    "audio_dir = root_dir / \"latent_score_dataset/string_quartet/split/franz_schubert/VpdS2rwMz1M/audio_segments/VpdS2rwMz1M:0006:141.4413:169.63613333333333.wav\"\n",
    "signal = AudioSignal(audio_dir)\n",
    "signal = signal.to_mono()"
   ]
  },
  {
   "cell_type": "code",
   "execution_count": null,
   "metadata": {},
   "outputs": [],
   "source": [
    "codes = model.compress(signal)\n",
    "p_codes = p_model.compress(signal)"
   ]
  },
  {
   "cell_type": "code",
   "execution_count": null,
   "metadata": {},
   "outputs": [],
   "source": [
    "# Trained model : Codes\n",
    "codes"
   ]
  },
  {
   "cell_type": "code",
   "execution_count": null,
   "metadata": {},
   "outputs": [],
   "source": [
    "# Pretrained model : Codes\n",
    "p_codes"
   ]
  },
  {
   "cell_type": "code",
   "execution_count": null,
   "metadata": {},
   "outputs": [],
   "source": [
    "trained_decoded = model.decompress(codes)\n",
    "trained_4_codes_decoded = model.decompress(codes, n_quantizers=4)"
   ]
  },
  {
   "cell_type": "code",
   "execution_count": null,
   "metadata": {},
   "outputs": [],
   "source": [
    "pretrained_decoded = p_model.decompress(p_codes)\n",
    "pretrained_4_codes_decoded = p_model.decompress(p_codes, n_quantizers=4)"
   ]
  },
  {
   "cell_type": "code",
   "execution_count": null,
   "metadata": {},
   "outputs": [],
   "source": [
    "# Original mono signal\n",
    "signal.specshow()\n",
    "ipd.Audio(signal.numpy().squeeze(), rate=44100)"
   ]
  },
  {
   "cell_type": "code",
   "execution_count": null,
   "metadata": {},
   "outputs": [],
   "source": [
    "# Trained model: decoded\n",
    "trained_decoded.specshow()\n",
    "ipd.Audio(trained_decoded.numpy().squeeze(), rate=44100)"
   ]
  },
  {
   "cell_type": "code",
   "execution_count": null,
   "metadata": {},
   "outputs": [],
   "source": [
    "# Trained model: only 4 codes decoded\n",
    "trained_4_codes_decoded.specshow()\n",
    "ipd.Audio(trained_4_codes_decoded.numpy().squeeze(), rate=44100)"
   ]
  },
  {
   "cell_type": "code",
   "execution_count": null,
   "metadata": {},
   "outputs": [],
   "source": [
    "# Pretrained model: decoded\n",
    "pretrained_decoded.specshow()\n",
    "ipd.Audio(pretrained_decoded.numpy().squeeze(), rate=44100)"
   ]
  },
  {
   "cell_type": "code",
   "execution_count": null,
   "metadata": {},
   "outputs": [],
   "source": [
    "# Pretrained model: only 4 codes decoded\n",
    "pretrained_4_codes_decoded.specshow()\n",
    "ipd.Audio(pretrained_4_codes_decoded.numpy().squeeze(), rate=44100)"
   ]
  },
  {
   "cell_type": "code",
   "execution_count": null,
   "metadata": {},
   "outputs": [],
   "source": [
    "audio_dir.stem"
   ]
  },
  {
   "cell_type": "code",
   "execution_count": null,
   "metadata": {},
   "outputs": [],
   "source": [
    "# Save files\n",
    "signal.write(save_dir / f\"{audio_dir.stem}_original.wav\")\n",
    "trained_decoded.write(save_dir / f\"{audio_dir.stem}_trained_decoded.wav\")\n",
    "trained_4_codes_decoded.write(save_dir / f\"{audio_dir.stem}_trained_4_codes_decoded.wav\")\n",
    "pretrained_decoded.write(save_dir / f\"{audio_dir.stem}_pretrained_decoded.wav\")\n",
    "pretrained_4_codes_decoded.write(save_dir / f\"{audio_dir.stem}_pretrained_4_codes_decoded.wav\")"
   ]
  }
 ],
 "metadata": {
  "kernelspec": {
   "display_name": "descript-audio-codec_latent-score-N8eTRKuL",
   "language": "python",
   "name": "python3"
  },
  "language_info": {
   "codemirror_mode": {
    "name": "ipython",
    "version": 3
   },
   "file_extension": ".py",
   "mimetype": "text/x-python",
   "name": "python",
   "nbconvert_exporter": "python",
   "pygments_lexer": "ipython3",
   "version": "3.10.12"
  }
 },
 "nbformat": 4,
 "nbformat_minor": 2
}
